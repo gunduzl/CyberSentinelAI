{
 "cells": [
  {
   "cell_type": "markdown",
   "metadata": {},
   "source": [
    "# KDD Cup 1999 - Keşifsel Veri Analizi (EDA)\n",
    "\n",
    "Bu notebook, KDD Cup 1999 veri setinin keşifsel veri analizini içerir."
   ]
  },
  {
   "cell_type": "code",
   "execution_count": null,
   "metadata": {},
   "outputs": [],
   "source": [
    "import sys\n",
    "sys.path.append('../')\n",
    "\n",
    "import pandas as pd\n",
    "import numpy as np\n",
    "import matplotlib.pyplot as plt\n",
    "import seaborn as sns\n",
    "\n",
    "from src.data import load_kdd, KDD_COLS, ATTACK_FAMILY\n",
    "from src.preprocess import add_targets, split_features\n",
    "from src.viz import boxplots, plot_attack_distribution, plot_service_attack_ratio, plot_correlation_heatmap\n",
    "\n",
    "# Görselleştirme ayarları\n",
    "plt.style.use('default')\n",
    "sns.set_palette('husl')\n",
    "%matplotlib inline"
   ]
  },
  {
   "cell_type": "markdown",
   "metadata": {},
   "source": [
    "## 1. Veri Yükleme\n",
    "\n",
    "**Not:** Veri dosyalarını `data/` klasörüne yerleştirdiğinizden emin olun."
   ]
  },
  {
   "cell_type": "code",
   "execution_count": null,
   "metadata": {},
   "outputs": [],
   "source": [
    "# Veri yükleme (dosya yollarını kendi sisteminize göre ayarlayın)\n",
    "try:\n",
    "    train_raw = load_kdd('../data/kddcup.data_10_percent.gz')\n",
    "    test_raw = load_kdd('../data/corrected.gz')\n",
    "    print(f\"Train veri boyutu: {train_raw.shape}\")\n",
    "    print(f\"Test veri boyutu: {test_raw.shape}\")\n",
    "except FileNotFoundError:\n",
    "    print(\"Veri dosyaları bulunamadı. Lütfen data/ klasörüne KDD Cup 1999 dosyalarını yerleştirin.\")"
   ]
  },
  {
   "cell_type": "markdown",
   "metadata": {},
   "source": [
    "## 2. Temel Veri İncelemesi"
   ]
  },
  {
   "cell_type": "code",
   "execution_count": null,
   "metadata": {},
   "outputs": [],
   "source": [
    "# Temel bilgiler\n",
    "print(\"Kolon isimleri:\")\n",
    "print(train_raw.columns.tolist())\n",
    "print(f\"\\nToplam kolon sayısı: {len(train_raw.columns)}\")\n",
    "\n",
    "# İlk birkaç satır\n",
    "print(\"\\nİlk 5 satır:\")\n",
    "train_raw.head()"
   ]
  },
  {
   "cell_type": "code",
   "execution_count": null,
   "metadata": {},
   "outputs": [],
   "source": [
    "# Veri tipleri ve eksik değerler\n",
    "print(\"Veri tipleri:\")\n",
    "print(train_raw.dtypes)\n",
    "\n",
    "print(\"\\nEksik değer sayıları:\")\n",
    "print(train_raw.isnull().sum().sum())\n",
    "\n",
    "print(\"\\nTemel istatistikler:\")\n",
    "train_raw.describe()"
   ]
  },
  {
   "cell_type": "markdown",
   "metadata": {},
   "source": [
    "## 3. Hedef Değişken Analizi"
   ]
  },
  {
   "cell_type": "code",
   "execution_count": null,
   "metadata": {},
   "outputs": [],
   "source": [
    "# Hedef değişkenleri ekle\n",
    "train = add_targets(train_raw)\n",
    "test = add_targets(test_raw)\n",
    "\n",
    "# Label dağılımı\n",
    "print(\"Train set - Label dağılımı:\")\n",
    "print(train['label'].value_counts())\n",
    "\n",
    "print(\"\\nTrain set - Binary dağılım:\")\n",
    "print(train['y_binary'].value_counts())\n",
    "\n",
    "print(\"\\nTrain set - Attack family dağılımı:\")\n",
    "print(train['y_family'].value_counts())"
   ]
  },
  {
   "cell_type": "code",
   "execution_count": null,
   "metadata": {},
   "outputs": [],
   "source": [
    "# Saldırı dağılımını görselleştir\n",
    "plot_attack_distribution(train)"
   ]
  },
  {
   "cell_type": "markdown",
   "metadata": {},
   "source": [
    "## 4. Kategorik Değişken Analizi"
   ]
  },
  {
   "cell_type": "code",
   "execution_count": null,
   "metadata": {},
   "outputs": [],
   "source": [
    "# Kategorik değişkenlerin benzersiz değer sayıları\n",
    "categorical_cols = ['protocol_type', 'service', 'flag']\n",
    "\n",
    "for col in categorical_cols:\n",
    "    print(f\"{col}: {train[col].nunique()} benzersiz değer\")\n",
    "    print(train[col].value_counts().head(10))\n",
    "    print(\"\" + \"-\"*50)"
   ]
  },
  {
   "cell_type": "code",
   "execution_count": null,
   "metadata": {},
   "outputs": [],
   "source": [
    "# Servis bazında saldırı oranları\n",
    "plot_service_attack_ratio(train, top_n=15)"
   ]
  },
  {
   "cell_type": "markdown",
   "metadata": {},
   "source": [
    "## 5. Sayısal Değişken Analizi"
   ]
  },
  {
   "cell_type": "code",
   "execution_count": null,
   "metadata": {},
   "outputs": [],
   "source": [
    "# Sıfır varyanslı kolonları tespit et\n",
    "numeric_cols = train.select_dtypes(include=[np.number]).columns\n",
    "zero_variance_cols = []\n",
    "\n",
    "for col in numeric_cols:\n",
    "    if train[col].nunique() <= 1:\n",
    "        zero_variance_cols.append(col)\n",
    "\n",
    "print(f\"Sıfır varyanslı kolonlar: {zero_variance_cols}\")"
   ]
  },
  {
   "cell_type": "code",
   "execution_count": null,
   "metadata": {},
   "outputs": [],
   "source": [
    "# Önemli sayısal değişkenler için boxplot\n",
    "important_cols = ['duration', 'src_bytes', 'dst_bytes', 'count', 'srv_count', 'dst_host_count']\n",
    "boxplots(train, important_cols)"
   ]
  },
  {
   "cell_type": "markdown",
   "metadata": {},
   "source": [
    "## 6. Korelasyon Analizi"
   ]
  },
  {
   "cell_type": "code",
   "execution_count": null,
   "metadata": {},
   "outputs": [],
   "source": [
    "# Korelasyon ısı haritası\n",
    "plot_correlation_heatmap(train)"
   ]
  },
  {
   "cell_type": "markdown",
   "metadata": {},
   "source": [
    "## 7. Aykırı Değer Analizi"
   ]
  },
  {
   "cell_type": "code",
   "execution_count": null,
   "metadata": {},
   "outputs": [],
   "source": [
    "from src.viz import zscore_outliers\n",
    "\n",
    "# Z-score ile aykırı değerleri tespit et\n",
    "outlier_cols = ['src_bytes', 'dst_bytes', 'count', 'srv_count']\n",
    "outliers, z_scores = zscore_outliers(train, outlier_cols, threshold=3.0)\n",
    "\n",
    "print(f\"Toplam aykırı değer sayısı: {len(outliers)}\")\n",
    "print(f\"Toplam veri sayısına oranı: {len(outliers)/len(train)*100:.2f}%\")"
   ]
  },
  {
   "cell_type": "markdown",
   "metadata": {},
   "source": [
    "## 8. Tekrar Eden Kayıtlar"
   ]
  },
  {
   "cell_type": "code",
   "execution_count": null,
   "metadata": {},
   "outputs": [],
   "source": [
    "# Tekrar eden kayıtları kontrol et\n",
    "duplicates = train.duplicated().sum()\n",
    "print(f\"Tekrar eden kayıt sayısı: {duplicates}\")\n",
    "print(f\"Toplam veriye oranı: {duplicates/len(train)*100:.2f}%\")"
   ]
  },
  {
   "cell_type": "markdown",
   "metadata": {},
   "source": [
    "## 9. Özet ve Sonuçlar\n",
    "\n",
    "Bu EDA sonucunda elde edilen temel bulgular:\n",
    "\n",
    "1. **Veri Boyutu**: Train ve test setlerinin boyutları\n",
    "2. **Sınıf Dengesizliği**: Normal vs saldırı oranları\n",
    "3. **Kategorik Değişkenler**: Protocol, service, flag değişkenlerinin dağılımları\n",
    "4. **Sayısal Değişkenler**: Aykırı değerler ve dağılımlar\n",
    "5. **Veri Kalitesi**: Eksik değerler, tekrar eden kayıtlar, sıfır varyanslı kolonlar\n",
    "\n",
    "**Sonraki Adımlar:**\n",
    "- Binary sınıflandırma modeli geliştirme\n",
    "- Multi-class sınıflandırma modeli geliştirme\n",
    "- Model performanslarının karşılaştırılması"
   ]
  }
 ],
 "metadata": {
  "kernelspec": {
   "display_name": "Python 3",
   "language": "python",
   "name": "python3"
  },
  "language_info": {
   "codemirror_mode": {
    "name": "ipython",
    "version": 3
   },
   "file_extension": ".py",
   "mimetype": "text/x-python",
   "name": "python",
   "nbconvert_exporter": "python",
   "pygments_lexer": "ipython3",
   "version": "3.8.0"
  }
 },
 "nbformat": 4,
 "nbformat_minor": 4
}