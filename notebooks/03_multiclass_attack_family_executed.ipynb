{
 "cells": [
  {
   "cell_type": "markdown",
   "metadata": {},
   "source": [
    "# KDD Cup 1999 - Multi-Class Saldırı Sınıflandırması\n",
    "\n",
    "Bu notebook, KDD Cup 1999 veri seti ile multi-class sınıflandırma (saldırı türü tespiti) modellerini geliştirir."
   ]
  },
  {
   "cell_type": "code",
   "execution_count": 1,
   "metadata": {
    "execution": {
     "iopub.execute_input": "2025-08-31T11:30:18.151703Z",
     "iopub.status.busy": "2025-08-31T11:30:18.151229Z",
     "iopub.status.idle": "2025-08-31T11:30:20.059616Z",
     "shell.execute_reply": "2025-08-31T11:30:20.059109Z"
    }
   },
   "outputs": [],
   "source": [
    "import sys\n",
    "sys.path.append('../')\n",
    "\n",
    "import pandas as pd\n",
    "import numpy as np\n",
    "import matplotlib.pyplot as plt\n",
    "from sklearn.model_selection import StratifiedKFold, GridSearchCV\n",
    "from sklearn.metrics import classification_report, f1_score, accuracy_score\n",
    "\n",
    "from src.data import load_kdd\n",
    "from src.preprocess import add_targets, split_features\n",
    "from src.models import make_multiclass_pipelines\n",
    "from src.eval import plot_cm\n",
    "\n",
    "import warnings\n",
    "warnings.filterwarnings('ignore')\n",
    "\n",
    "%matplotlib inline"
   ]
  },
  {
   "cell_type": "markdown",
   "metadata": {},
   "source": [
    "## 1. Veri Hazırlama"
   ]
  },
  {
   "cell_type": "code",
   "execution_count": 2,
   "metadata": {
    "execution": {
     "iopub.execute_input": "2025-08-31T11:30:20.061821Z",
     "iopub.status.busy": "2025-08-31T11:30:20.061521Z",
     "iopub.status.idle": "2025-08-31T11:30:21.889954Z",
     "shell.execute_reply": "2025-08-31T11:30:21.889557Z"
    }
   },
   "outputs": [
    {
     "name": "stdout",
     "output_type": "stream",
     "text": [
      "Veri yükleniyor...\n"
     ]
    },
    {
     "name": "stdout",
     "output_type": "stream",
     "text": [
      "Full train boyutu: (494021, 45)\n",
      "Full test boyutu: (311029, 45)\n"
     ]
    },
    {
     "name": "stdout",
     "output_type": "stream",
     "text": [
      "Small train boyutu: (247010, 45)\n",
      "Small test boyutu: (155514, 45)\n"
     ]
    }
   ],
   "source": [
    "# Veri yükleme\n",
    "print('Veri yükleniyor...')\n",
    "train_raw = load_kdd('../data/kddcup.data_10_percent.gz')\n",
    "test_raw = load_kdd('../data/corrected.gz')\n",
    "\n",
    "# Hedef değişkenleri ekle\n",
    "train_full = add_targets(train_raw)\n",
    "test_full = add_targets(test_raw)\n",
    "\n",
    "print(f'Full train boyutu: {train_full.shape}')\n",
    "print(f'Full test boyutu: {test_full.shape}')\n",
    "\n",
    "# Hızlı test için orta büyüklükte örneklem al\n",
    "from sklearn.model_selection import train_test_split\n",
    "train, _ = train_test_split(train_full, test_size=0.5, random_state=42, stratify=train_full['y_binary'])\n",
    "test, _ = train_test_split(test_full, test_size=0.5, random_state=42, stratify=test_full['y_binary'])\n",
    "\n",
    "print(f'Small train boyutu: {train.shape}')\n",
    "print(f'Small test boyutu: {test.shape}')"
   ]
  },
  {
   "cell_type": "code",
   "execution_count": 3,
   "metadata": {
    "execution": {
     "iopub.execute_input": "2025-08-31T11:30:21.891677Z",
     "iopub.status.busy": "2025-08-31T11:30:21.891518Z",
     "iopub.status.idle": "2025-08-31T11:30:22.001722Z",
     "shell.execute_reply": "2025-08-31T11:30:22.001380Z"
    }
   },
   "outputs": [
    {
     "name": "stdout",
     "output_type": "stream",
     "text": [
      "Train multiclass boyutu: (247010, 45)\n",
      "Test multiclass boyutu: (153055, 45)\n"
     ]
    }
   ],
   "source": [
    "# Normal trafiği 'normal' sınıfı olarak ekle\n",
    "train_mc = train.copy()\n",
    "test_mc = test.copy()\n",
    "\n",
    "# Normal trafikler için y_family = 'normal' ata\n",
    "train_mc.loc[train_mc['y_binary'] == 0, 'y_family'] = 'normal'\n",
    "test_mc.loc[test_mc['y_binary'] == 0, 'y_family'] = 'normal'\n",
    "\n",
    "# NaN değerleri olan satırları kaldır (family mapping olmayan saldırılar)\n",
    "train_mc = train_mc.dropna(subset=['y_family'])\n",
    "test_mc = test_mc.dropna(subset=['y_family'])\n",
    "\n",
    "print(f'Train multiclass boyutu: {train_mc.shape}')\n",
    "print(f'Test multiclass boyutu: {test_mc.shape}')"
   ]
  },
  {
   "cell_type": "code",
   "execution_count": 4,
   "metadata": {
    "execution": {
     "iopub.execute_input": "2025-08-31T11:30:22.003406Z",
     "iopub.status.busy": "2025-08-31T11:30:22.003256Z",
     "iopub.status.idle": "2025-08-31T11:30:22.019857Z",
     "shell.execute_reply": "2025-08-31T11:30:22.019551Z"
    }
   },
   "outputs": [
    {
     "name": "stdout",
     "output_type": "stream",
     "text": [
      "Train set - Saldırı ailesi dağılımı:\n",
      "y_family\n",
      "dos       195713\n",
      "normal     48639\n",
      "probe       2070\n",
      "r2l          568\n",
      "u2r           20\n",
      "Name: count, dtype: int64\n",
      "\n",
      "Test set - Saldırı ailesi dağılımı:\n",
      "y_family\n",
      "dos       112426\n",
      "normal     30296\n",
      "r2l         8192\n",
      "probe       2036\n",
      "u2r          105\n",
      "Name: count, dtype: int64\n"
     ]
    }
   ],
   "source": [
    "# Saldırı ailesi dağılımlarını kontrol et\n",
    "print('Train set - Saldırı ailesi dağılımı:')\n",
    "print(train_mc['y_family'].value_counts())\n",
    "\n",
    "print('\\nTest set - Saldırı ailesi dağılımı:')\n",
    "print(test_mc['y_family'].value_counts())"
   ]
  },
  {
   "cell_type": "code",
   "execution_count": 5,
   "metadata": {
    "execution": {
     "iopub.execute_input": "2025-08-31T11:30:22.021283Z",
     "iopub.status.busy": "2025-08-31T11:30:22.021175Z",
     "iopub.status.idle": "2025-08-31T11:30:22.061974Z",
     "shell.execute_reply": "2025-08-31T11:30:22.061629Z"
    }
   },
   "outputs": [
    {
     "name": "stdout",
     "output_type": "stream",
     "text": [
      "Özellik sayısı: 41\n",
      "Sayısal özellik sayısı: 38\n",
      "Kategorik özellik sayısı: 3\n",
      "Sınıf sayısı: 5\n"
     ]
    }
   ],
   "source": [
    "# Özellikleri ve hedef değişkenleri ayır\n",
    "X_train_mc, y_train_bin, y_train_family, num_cols, cat_cols = split_features(train_mc)\n",
    "X_test_mc, y_test_bin, y_test_family, _, _ = split_features(test_mc)\n",
    "\n",
    "print(f'Özellik sayısı: {X_train_mc.shape[1]}')\n",
    "print(f'Sayısal özellik sayısı: {len(num_cols)}')\n",
    "print(f'Kategorik özellik sayısı: {len(cat_cols)}')\n",
    "print(f'Sınıf sayısı: {y_train_family.nunique()}')"
   ]
  },
  {
   "cell_type": "markdown",
   "metadata": {},
   "source": [
    "## 2. Model Pipeline'ları Hazırlama"
   ]
  },
  {
   "cell_type": "code",
   "execution_count": 6,
   "metadata": {
    "execution": {
     "iopub.execute_input": "2025-08-31T11:30:22.063672Z",
     "iopub.status.busy": "2025-08-31T11:30:22.063524Z",
     "iopub.status.idle": "2025-08-31T11:30:22.065931Z",
     "shell.execute_reply": "2025-08-31T11:30:22.065603Z"
    }
   },
   "outputs": [
    {
     "name": "stdout",
     "output_type": "stream",
     "text": [
      "Hazırlanan modeller:\n",
      "- lr\n",
      "- rf\n"
     ]
    }
   ],
   "source": [
    "# Multi-class sınıflandırma pipeline'larını oluştur\n",
    "grids = make_multiclass_pipelines(num_cols, cat_cols)\n",
    "\n",
    "print('Hazırlanan modeller:')\n",
    "for name in grids.keys():\n",
    "    print(f'- {name}')"
   ]
  },
  {
   "cell_type": "markdown",
   "metadata": {},
   "source": [
    "## 3. Model Eğitimi ve Hiperparametre Optimizasyonu"
   ]
  },
  {
   "cell_type": "code",
   "execution_count": 7,
   "metadata": {
    "execution": {
     "iopub.execute_input": "2025-08-31T11:30:22.067437Z",
     "iopub.status.busy": "2025-08-31T11:30:22.067312Z",
     "iopub.status.idle": "2025-08-31T11:30:22.069388Z",
     "shell.execute_reply": "2025-08-31T11:30:22.069089Z"
    }
   },
   "outputs": [
    {
     "name": "stdout",
     "output_type": "stream",
     "text": [
      "Multi-class model eğitimi başlıyor...\n",
      "\n"
     ]
    }
   ],
   "source": [
    "# Cross-validation ayarları (hızlı test için 2 split)\n",
    "cv = StratifiedKFold(n_splits=2, shuffle=True, random_state=42)\n",
    "\n",
    "# Sonuçları saklamak için\n",
    "mc_results = []\n",
    "trained_models = {}\n",
    "\n",
    "print('Multi-class model eğitimi başlıyor...\\n')"
   ]
  },
  {
   "cell_type": "code",
   "execution_count": 8,
   "metadata": {
    "execution": {
     "iopub.execute_input": "2025-08-31T11:30:22.070895Z",
     "iopub.status.busy": "2025-08-31T11:30:22.070764Z",
     "iopub.status.idle": "2025-08-31T11:31:04.767114Z",
     "shell.execute_reply": "2025-08-31T11:31:04.766527Z"
    }
   },
   "outputs": [
    {
     "name": "stdout",
     "output_type": "stream",
     "text": [
      "=== Logistic Regression (Multi-class) ===\n"
     ]
    },
    {
     "name": "stdout",
     "output_type": "stream",
     "text": [
      "Fitting 2 folds for each of 3 candidates, totalling 6 fits\n"
     ]
    },
    {
     "name": "stderr",
     "output_type": "stream",
     "text": [
      "/Library/Frameworks/Python.framework/Versions/3.12/lib/python3.12/site-packages/sklearn/linear_model/_logistic.py:1256: FutureWarning: 'multi_class' was deprecated in version 1.5 and will be removed in 1.7. Use OneVsRestClassifier(LogisticRegression(..)) instead. Leave it to its default value to avoid this warning.\n",
      "  warnings.warn(\n"
     ]
    },
    {
     "name": "stderr",
     "output_type": "stream",
     "text": [
      "/Library/Frameworks/Python.framework/Versions/3.12/lib/python3.12/site-packages/sklearn/linear_model/_logistic.py:1256: FutureWarning: 'multi_class' was deprecated in version 1.5 and will be removed in 1.7. Use OneVsRestClassifier(LogisticRegression(..)) instead. Leave it to its default value to avoid this warning.\n",
      "  warnings.warn(\n",
      "/Library/Frameworks/Python.framework/Versions/3.12/lib/python3.12/site-packages/sklearn/linear_model/_logistic.py:1256: FutureWarning: 'multi_class' was deprecated in version 1.5 and will be removed in 1.7. Use OneVsRestClassifier(LogisticRegression(..)) instead. Leave it to its default value to avoid this warning.\n",
      "  warnings.warn(\n",
      "/Library/Frameworks/Python.framework/Versions/3.12/lib/python3.12/site-packages/sklearn/linear_model/_logistic.py:1256: FutureWarning: 'multi_class' was deprecated in version 1.5 and will be removed in 1.7. Use OneVsRestClassifier(LogisticRegression(..)) instead. Leave it to its default value to avoid this warning.\n",
      "  warnings.warn(\n",
      "/Library/Frameworks/Python.framework/Versions/3.12/lib/python3.12/site-packages/sklearn/linear_model/_logistic.py:1256: FutureWarning: 'multi_class' was deprecated in version 1.5 and will be removed in 1.7. Use OneVsRestClassifier(LogisticRegression(..)) instead. Leave it to its default value to avoid this warning.\n",
      "  warnings.warn(\n"
     ]
    },
    {
     "name": "stderr",
     "output_type": "stream",
     "text": [
      "/Library/Frameworks/Python.framework/Versions/3.12/lib/python3.12/site-packages/sklearn/linear_model/_logistic.py:1256: FutureWarning: 'multi_class' was deprecated in version 1.5 and will be removed in 1.7. Use OneVsRestClassifier(LogisticRegression(..)) instead. Leave it to its default value to avoid this warning.\n",
      "  warnings.warn(\n"
     ]
    },
    {
     "name": "stdout",
     "output_type": "stream",
     "text": [
      "\n",
      "En iyi parametreler: {'clf__C': 0.5}\n",
      "Macro F1: 0.5754\n",
      "Weighted F1: 0.9137\n",
      "Accuracy: 0.9357\n",
      "\n",
      "Sınıflandırma Raporu:\n"
     ]
    },
    {
     "name": "stdout",
     "output_type": "stream",
     "text": [
      "              precision    recall  f1-score   support\n",
      "\n",
      "         dos     0.9961    0.9937    0.9949    112426\n",
      "      normal     0.7624    0.9854    0.8596     30296\n",
      "       probe     0.9375    0.7362    0.8248      2036\n",
      "         r2l     0.9612    0.0151    0.0298      8192\n",
      "         u2r     0.7143    0.0952    0.1681       105\n",
      "\n",
      "    accuracy                         0.9357    153055\n",
      "   macro avg     0.8743    0.5651    0.5754    153055\n",
      "weighted avg     0.9470    0.9357    0.9137    153055\n",
      "\n"
     ]
    }
   ],
   "source": [
    "# Logistic Regression\n",
    "print('=== Logistic Regression (Multi-class) ===')\n",
    "name = 'lr'\n",
    "pipe, param_grid = grids[name]\n",
    "\n",
    "search = GridSearchCV(\n",
    "    estimator=pipe,\n",
    "    param_grid=param_grid,\n",
    "    scoring='f1_macro',\n",
    "    cv=cv,\n",
    "    n_jobs=-1,\n",
    "    verbose=1\n",
    ")\n",
    "\n",
    "search.fit(X_train_mc, y_train_family)\n",
    "trained_models[name] = search.best_estimator_\n",
    "\n",
    "# Test seti tahminleri\n",
    "y_pred = search.best_estimator_.predict(X_test_mc)\n",
    "\n",
    "# Metrikleri hesapla\n",
    "f1_macro = f1_score(y_test_family, y_pred, average='macro')\n",
    "f1_weighted = f1_score(y_test_family, y_pred, average='weighted')\n",
    "accuracy = accuracy_score(y_test_family, y_pred)\n",
    "\n",
    "print(f'\\nEn iyi parametreler: {search.best_params_}')\n",
    "print(f'Macro F1: {f1_macro:.4f}')\n",
    "print(f'Weighted F1: {f1_weighted:.4f}')\n",
    "print(f'Accuracy: {accuracy:.4f}')\n",
    "print('\\nSınıflandırma Raporu:')\n",
    "print(classification_report(y_test_family, y_pred, digits=4))\n",
    "\n",
    "mc_results.append({\n",
    "    'model': name,\n",
    "    'best_params': search.best_params_,\n",
    "    'f1_macro': f1_macro,\n",
    "    'f1_weighted': f1_weighted,\n",
    "    'accuracy': accuracy\n",
    "})"
   ]
  },
  {
   "cell_type": "code",
   "execution_count": 9,
   "metadata": {
    "execution": {
     "iopub.execute_input": "2025-08-31T11:31:04.769849Z",
     "iopub.status.busy": "2025-08-31T11:31:04.769554Z",
     "iopub.status.idle": "2025-08-31T11:34:48.196956Z",
     "shell.execute_reply": "2025-08-31T11:34:48.196409Z"
    }
   },
   "outputs": [
    {
     "name": "stdout",
     "output_type": "stream",
     "text": [
      "\n",
      "=== Random Forest (Multi-class) ===\n",
      "Fitting 2 folds for each of 6 candidates, totalling 12 fits\n"
     ]
    },
    {
     "name": "stdout",
     "output_type": "stream",
     "text": [
      "\n",
      "En iyi parametreler: {'clf__max_depth': 40, 'clf__n_estimators': 300}\n",
      "Macro F1: 0.5581\n",
      "Weighted F1: 0.9209\n",
      "Accuracy: 0.9406\n",
      "\n",
      "Sınıflandırma Raporu:\n"
     ]
    },
    {
     "name": "stdout",
     "output_type": "stream",
     "text": [
      "              precision    recall  f1-score   support\n",
      "\n",
      "         dos     0.9987    0.9950    0.9969    112426\n",
      "      normal     0.7737    0.9950    0.8705     30296\n",
      "       probe     0.9212    0.7412    0.8214      2036\n",
      "         r2l     0.9910    0.0535    0.1015      8192\n",
      "         u2r     0.0000    0.0000    0.0000       105\n",
      "\n",
      "    accuracy                         0.9406    153055\n",
      "   macro avg     0.7369    0.5569    0.5581    153055\n",
      "weighted avg     0.9520    0.9406    0.9209    153055\n",
      "\n"
     ]
    }
   ],
   "source": [
    "# Random Forest\n",
    "print('\\n=== Random Forest (Multi-class) ===')\n",
    "name = 'rf'\n",
    "pipe, param_grid = grids[name]\n",
    "\n",
    "search = GridSearchCV(\n",
    "    estimator=pipe,\n",
    "    param_grid=param_grid,\n",
    "    scoring='f1_macro',\n",
    "    cv=cv,\n",
    "    n_jobs=-1,\n",
    "    verbose=1\n",
    ")\n",
    "\n",
    "search.fit(X_train_mc, y_train_family)\n",
    "trained_models[name] = search.best_estimator_\n",
    "\n",
    "# Test seti tahminleri\n",
    "y_pred = search.best_estimator_.predict(X_test_mc)\n",
    "\n",
    "# Metrikleri hesapla\n",
    "f1_macro = f1_score(y_test_family, y_pred, average='macro')\n",
    "f1_weighted = f1_score(y_test_family, y_pred, average='weighted')\n",
    "accuracy = accuracy_score(y_test_family, y_pred)\n",
    "\n",
    "print(f'\\nEn iyi parametreler: {search.best_params_}')\n",
    "print(f'Macro F1: {f1_macro:.4f}')\n",
    "print(f'Weighted F1: {f1_weighted:.4f}')\n",
    "print(f'Accuracy: {accuracy:.4f}')\n",
    "print('\\nSınıflandırma Raporu:')\n",
    "print(classification_report(y_test_family, y_pred, digits=4))\n",
    "\n",
    "mc_results.append({\n",
    "    'model': name,\n",
    "    'best_params': search.best_params_,\n",
    "    'f1_macro': f1_macro,\n",
    "    'f1_weighted': f1_weighted,\n",
    "    'accuracy': accuracy\n",
    "})"
   ]
  },
  {
   "cell_type": "markdown",
   "metadata": {},
   "source": [
    "## 4. Model Performans Karşılaştırması"
   ]
  },
  {
   "cell_type": "code",
   "execution_count": 10,
   "metadata": {
    "execution": {
     "iopub.execute_input": "2025-08-31T11:34:48.199649Z",
     "iopub.status.busy": "2025-08-31T11:34:48.199476Z",
     "iopub.status.idle": "2025-08-31T11:34:48.207818Z",
     "shell.execute_reply": "2025-08-31T11:34:48.207490Z"
    }
   },
   "outputs": [
    {
     "name": "stdout",
     "output_type": "stream",
     "text": [
      "Multi-class Model Performans Karşılaştırması:\n",
      "  model                                       best_params  f1_macro  \\\n",
      "0    lr                                   {'clf__C': 0.5}  0.575441   \n",
      "1    rf  {'clf__max_depth': 40, 'clf__n_estimators': 300}  0.558060   \n",
      "\n",
      "   f1_weighted  accuracy  \n",
      "0     0.913663  0.935657  \n",
      "1     0.920917  0.940577  \n"
     ]
    }
   ],
   "source": [
    "# Sonuçları tablo halinde göster\n",
    "mc_results_df = pd.DataFrame(mc_results)\n",
    "print('Multi-class Model Performans Karşılaştırması:')\n",
    "print(mc_results_df)"
   ]
  },
  {
   "cell_type": "markdown",
   "metadata": {},
   "source": [
    "## 5. En İyi Modelin Detaylı Analizi"
   ]
  },
  {
   "cell_type": "code",
   "execution_count": 11,
   "metadata": {
    "execution": {
     "iopub.execute_input": "2025-08-31T11:34:48.209422Z",
     "iopub.status.busy": "2025-08-31T11:34:48.209313Z",
     "iopub.status.idle": "2025-08-31T11:34:48.414963Z",
     "shell.execute_reply": "2025-08-31T11:34:48.414253Z"
    }
   },
   "outputs": [
    {
     "name": "stdout",
     "output_type": "stream",
     "text": [
      "En iyi model: lr\n"
     ]
    }
   ],
   "source": [
    "# En iyi modeli seç (Macro F1'e göre)\n",
    "best_model_name = mc_results_df.loc[mc_results_df['f1_macro'].idxmax(), 'model']\n",
    "best_model = trained_models[best_model_name]\n",
    "\n",
    "print(f'En iyi model: {best_model_name}')\n",
    "\n",
    "# En iyi model ile tahminler\n",
    "y_pred_best = best_model.predict(X_test_mc)"
   ]
  },
  {
   "cell_type": "code",
   "execution_count": 12,
   "metadata": {
    "execution": {
     "iopub.execute_input": "2025-08-31T11:34:48.418711Z",
     "iopub.status.busy": "2025-08-31T11:34:48.418352Z",
     "iopub.status.idle": "2025-08-31T11:34:48.835859Z",
     "shell.execute_reply": "2025-08-31T11:34:48.835443Z"
    }
   },
   "outputs": [
    {
     "data": {
      "image/png": "[encoded data removed]",
      "text/plain": [
       "<Figure size 640x480 with 2 Axes>"
      ]
     },
     "metadata": {},
     "output_type": "display_data"
    }
   ],
   "source": [
    "# Confusion Matrix\n",
    "labels = sorted(y_test_family.unique())\n",
    "plot_cm(y_test_family, y_pred_best, labels=labels, \n",
    "        title=f'Multi-class Confusion Matrix ({best_model_name})', \n",
    "        normalize='true')"
   ]
  },
  {
   "cell_type": "code",
   "execution_count": 13,
   "metadata": {
    "execution": {
     "iopub.execute_input": "2025-08-31T11:34:48.837593Z",
     "iopub.status.busy": "2025-08-31T11:34:48.837438Z",
     "iopub.status.idle": "2025-08-31T11:34:49.634674Z",
     "shell.execute_reply": "2025-08-31T11:34:49.634262Z"
    }
   },
   "outputs": [
    {
     "name": "stdout",
     "output_type": "stream",
     "text": [
      "Sınıf bazında performans:\n",
      "    class  precision  recall  f1_score  support\n",
      "0     dos     0.9961  0.9937    0.9949   112426\n",
      "1  normal     0.7624  0.9854    0.8596    30296\n",
      "2   probe     0.9375  0.7362    0.8248     2036\n",
      "3     r2l     0.9612  0.0151    0.0298     8192\n",
      "4     u2r     0.7143  0.0952    0.1681      105\n"
     ]
    }
   ],
   "source": [
    "# Sınıf bazında performans analizi\n",
    "from sklearn.metrics import precision_recall_fscore_support\n",
    "\n",
    "precision, recall, f1, support = precision_recall_fscore_support(\n",
    "    y_test_family, y_pred_best, average=None, labels=labels\n",
    ")\n",
    "\n",
    "class_performance = pd.DataFrame({\n",
    "    'class': labels,\n",
    "    'precision': precision,\n",
    "    'recall': recall,\n",
    "    'f1_score': f1,\n",
    "    'support': support\n",
    "})\n",
    "\n",
    "print('Sınıf bazında performans:')\n",
    "print(class_performance.round(4))"
   ]
  },
  {
   "cell_type": "markdown",
   "metadata": {},
   "source": [
    "## 6. Özellik Önemleri (Random Forest için)"
   ]
  },
  {
   "cell_type": "code",
   "execution_count": 14,
   "metadata": {
    "execution": {
     "iopub.execute_input": "2025-08-31T11:34:49.636414Z",
     "iopub.status.busy": "2025-08-31T11:34:49.636283Z",
     "iopub.status.idle": "2025-08-31T11:34:49.639989Z",
     "shell.execute_reply": "2025-08-31T11:34:49.639653Z"
    }
   },
   "outputs": [
    {
     "name": "stdout",
     "output_type": "stream",
     "text": [
      "Özellik önemleri sadece Random Forest modeli için gösterilir. En iyi model: lr\n"
     ]
    }
   ],
   "source": [
    "# Eğer en iyi model Random Forest ise özellik önemlerini göster\n",
    "if best_model_name == 'rf':\n",
    "    # Özellik önemlerini al\n",
    "    feature_names = best_model.named_steps['pre'].get_feature_names_out()\n",
    "    importances = best_model.named_steps['clf'].feature_importances_\n",
    "    \n",
    "    # En önemli 20 özelliği göster\n",
    "    feature_importance_df = pd.DataFrame({\n",
    "        'feature': feature_names,\n",
    "        'importance': importances\n",
    "    }).sort_values('importance', ascending=False)\n",
    "    \n",
    "    print('En önemli 20 özellik (Multi-class):')\n",
    "    print(feature_importance_df.head(20))\n",
    "    \n",
    "    # Görselleştir\n",
    "    plt.figure(figsize=(10, 8))\n",
    "    top_features = feature_importance_df.head(20)\n",
    "    plt.barh(range(len(top_features)), top_features['importance'])\n",
    "    plt.yticks(range(len(top_features)), top_features['feature'])\n",
    "    plt.xlabel('Özellik Önemi')\n",
    "    plt.title('En Önemli 20 Özellik (Multi-class Random Forest)')\n",
    "    plt.gca().invert_yaxis()\n",
    "    plt.tight_layout()\n",
    "    plt.show()\n",
    "else:\n",
    "    print(f'Özellik önemleri sadece Random Forest modeli için gösterilir. En iyi model: {best_model_name}')"
   ]
  },
  {
   "cell_type": "markdown",
   "metadata": {},
   "source": [
    "## 7. Hata Analizi"
   ]
  },
  {
   "cell_type": "code",
   "execution_count": 15,
   "metadata": {
    "execution": {
     "iopub.execute_input": "2025-08-31T11:34:49.641485Z",
     "iopub.status.busy": "2025-08-31T11:34:49.641352Z",
     "iopub.status.idle": "2025-08-31T11:34:49.659120Z",
     "shell.execute_reply": "2025-08-31T11:34:49.658800Z"
    }
   },
   "outputs": [
    {
     "name": "stdout",
     "output_type": "stream",
     "text": [
      "Toplam yanlış sınıflandırma: 9848\n",
      "Yanlış sınıflandırma oranı: 0.0643\n",
      "\n",
      "En sık karıştırılan sınıf çiftleri (gerçek -> tahmin):\n",
      "r2l -> normal: 8065 kez\n",
      "dos -> normal: 697 kez\n",
      "probe -> normal: 451 kez\n",
      "normal -> dos: 346 kez\n",
      "u2r -> normal: 92 kez\n",
      "normal -> probe: 90 kez\n",
      "probe -> dos: 86 kez\n",
      "dos -> probe: 8 kez\n",
      "normal -> u2r: 4 kez\n",
      "normal -> r2l: 3 kez\n"
     ]
    }
   ],
   "source": [
    "# Yanlış sınıflandırılan örnekleri analiz et\n",
    "misclassified = y_test_family != y_pred_best\n",
    "\n",
    "print(f'Toplam yanlış sınıflandırma: {misclassified.sum()}')\n",
    "print(f'Yanlış sınıflandırma oranı: {misclassified.mean():.4f}')\n",
    "\n",
    "# En çok karıştırılan sınıf çiftleri\n",
    "from collections import Counter\n",
    "\n",
    "misclass_pairs = []\n",
    "for true_label, pred_label in zip(y_test_family[misclassified], y_pred_best[misclassified]):\n",
    "    misclass_pairs.append((true_label, pred_label))\n",
    "\n",
    "most_common_errors = Counter(misclass_pairs).most_common(10)\n",
    "\n",
    "print('\\nEn sık karıştırılan sınıf çiftleri (gerçek -> tahmin):')\n",
    "for (true_class, pred_class), count in most_common_errors:\n",
    "    print(f'{true_class} -> {pred_class}: {count} kez')"
   ]
  },
  {
   "cell_type": "markdown",
   "metadata": {},
   "source": [
    "## 8. Sonuçlar ve Değerlendirme\n",
    "\n",
    "### Temel Bulgular:\n",
    "\n",
    "1. **Model Performansları**: Yukarıdaki tabloda karşılaştırıldı\n",
    "2. **En İyi Model**: Macro F1 skoruna göre belirlendi\n",
    "3. **Sınıf Bazında Performans**: Her saldırı ailesi için ayrı ayrı analiz edildi\n",
    "4. **Hata Analizi**: En sık karıştırılan sınıf çiftleri belirlendi\n",
    "\n",
    "### Gözlemler:\n",
    "\n",
    "- **DoS saldırıları** genellikle en kolay tespit edilen sınıftır\n",
    "- **U2R ve R2L** saldırıları daha az örnekli olduğu için tespit edilmesi zordur\n",
    "- **Probe** saldırıları orta düzeyde başarı ile tespit edilir\n",
    "\n",
    "### Öneriler:\n",
    "\n",
    "- Dengesiz sınıflar için daha gelişmiş örnekleme teknikleri kullanılabilir\n",
    "- Ensemble yöntemleri (Voting, Stacking) denenebilir\n",
    "- Özellik mühendisliği ile yeni özellikler türetilebilir\n",
    "- Cost-sensitive learning yaklaşımları uygulanabilir"
   ]
  }
 ],
 "metadata": {
  "kernelspec": {
   "display_name": "Python 3",
   "language": "python",
   "name": "python3"
  },
  "language_info": {
   "codemirror_mode": {
    "name": "ipython",
    "version": 3
   },
   "file_extension": ".py",
   "mimetype": "text/x-python",
   "name": "python",
   "nbconvert_exporter": "python",
   "pygments_lexer": "ipython3",
   "version": "3.12.0"
  }
 },
 "nbformat": 4,
 "nbformat_minor": 4
}
