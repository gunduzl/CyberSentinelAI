{
 "cells": [
  {
   "cell_type": "markdown",
   "metadata": {},
   "source": [
    "# KDD Cup 1999 - Binary Saldırı Tespiti\n",
    "\n",
    "Bu notebook, KDD Cup 1999 veri seti ile binary sınıflandırma (saldırı vs normal) modellerini geliştirir."
   ]
  },
  {
   "cell_type": "code",
   "execution_count": null,
   "metadata": {},
   "outputs": [],
   "source": [
    "import sys\n",
    "sys.path.append('../')\n",
    "\n",
    "import pandas as pd\n",
    "import numpy as np\n",
    "import matplotlib.pyplot as plt\n",
    "from sklearn.model_selection import StratifiedKFold, GridSearchCV\n",
    "from sklearn.metrics import classification_report, roc_auc_score, f1_score\n",
    "\n",
    "from src.data import load_kdd\n",
    "from src.preprocess import add_targets, split_features\n",
    "from src.models import make_binary_pipelines\n",
    "from src.eval import plot_roc_pr, plot_cm, find_best_threshold\n",
    "\n",
    "import warnings\n",
    "warnings.filterwarnings('ignore')\n",
    "\n",
    "%matplotlib inline"
   ]
  },
  {
   "cell_type": "markdown",
   "metadata": {},
   "source": [
    "## 1. Veri Hazırlama"
   ]
  },
  {
   "cell_type": "code",
   "execution_count": null,
   "metadata": {},
   "outputs": [],
   "source": [
    "# Veri yükleme\n",
    "train_raw = load_kdd('../data/kddcup.data_10_percent.gz')\n",
    "test_raw = load_kdd('../data/corrected.gz')\n",
    "\n",
    "# Hedef değişkenleri ekleme\n",
    "train_df = add_targets(train_raw)\n",
    "test_df = add_targets(test_raw)\n",
    "\n",
    "print(f'Train shape: {train_df.shape}')\n",
    "print(f'Test shape: {test_df.shape}')\n",
    "\n",
    "# Hızlı test için veri setini küçültme (ilk 50,000 örnek)\n",
    "from sklearn.model_selection import train_test_split\n",
    "train_df_small, _ = train_test_split(train_df, test_size=0.9, random_state=42, stratify=train_df['y_binary'])\n",
    "test_df_small, _ = train_test_split(test_df, test_size=0.9, random_state=42, stratify=test_df['y_binary'])\n",
    "\n",
    "print(f'\\nSmall train shape: {train_df_small.shape}')\n",
    "print(f'Small test shape: {test_df_small.shape}')\n",
    "\n",
    "# Binary hedef dağılımı\n",
    "print('\\nBinary target distribution (small train):')\n",
    "print(train_df_small['y_binary'].value_counts())\n",
    "print('\\nBinary target distribution (small test):')\n",
    "print(test_df_small['y_binary'].value_counts())"
   ]
  },
  {
   "cell_type": "code",
   "execution_count": null,
   "metadata": {},
   "outputs": [],
   "source": [
    "# Özellik ayrımı (küçük veri seti kullanarak)\n",
     "X_train, y_train_bin, y_train_multi, num_cols, cat_cols = split_features(train_df_small)\n",
     "X_test, y_test_bin, y_test_multi, _, _ = split_features(test_df_small)\n",
    "\n",
    "print(f'Feature shape: {X_train.shape}')\n",
    "print(f'Binary target shape: {y_train_bin.shape}')\n",
    "print(f'Multi-class target shape: {y_train_multi.shape}')"
   ]
  },
  {
   "cell_type": "markdown",
   "metadata": {},
   "source": [
    "## 2. Model Pipeline'ları"
   ]
  },
  {
   "cell_type": "code",
   "execution_count": null,
   "metadata": {},
   "outputs": [],
   "source": [
    "# Model pipeline'ları ve hiperparametre gridleri\n",
     "grids = make_binary_pipelines(num_cols, cat_cols)\n",
    "\n",
    "print('Available models:')\n",
    "for name in grids.keys():\n",
    "    print(f'- {name}')"
   ]
  },
  {
   "cell_type": "markdown",
   "metadata": {},
   "source": [
    "## 3. Model Eğitimi ve Hiperparametre Optimizasyonu"
   ]
  },
  {
   "cell_type": "code",
   "execution_count": null,
   "metadata": {},
   "outputs": [],
   "source": [
    "# Cross-validation stratejisi (hızlı test için 2 split)\n",
    "cv = StratifiedKFold(n_splits=2, shuffle=True, random_state=42)\n",
    "\n",
    "# Eğitilmiş modelleri saklama\n",
    "trained_models = {}"
   ]
  },
  {
   "cell_type": "code",
   "execution_count": null,
   "metadata": {},
   "outputs": [],
   "source": [
    "# Logistic Regression\n",
    "print('=== Logistic Regression ===')\n",
    "name = 'lr'\n",
    "pipe, param_grid = grids[name]\n",
    "\n",
    "search = GridSearchCV(\n",
    "    estimator=pipe,\n",
    "    param_grid=param_grid,\n",
    "    scoring='f1',\n",
    "    cv=cv,\n",
    "    n_jobs=-1,\n",
    "    verbose=1\n",
    ")\n",
    "\n",
    "search.fit(X_train, y_train_bin)\n",
    "trained_models[name] = search.best_estimator_\n",
    "\n",
    "print(f'Best params: {search.best_params_}')\n",
    "print(f'Best CV score: {search.best_score_:.4f}')"
   ]
  },
  {
   "cell_type": "code",
   "execution_count": null,
   "metadata": {},
   "outputs": [],
   "source": [
    "# Random Forest\n",
    "print('\\n=== Random Forest ===')\n",
    "name = 'rf'\n",
    "pipe, param_grid = grids[name]\n",
    "\n",
    "search = GridSearchCV(\n",
    "    estimator=pipe,\n",
    "    param_grid=param_grid,\n",
    "    scoring='f1',\n",
    "    cv=cv,\n",
    "    n_jobs=-1,\n",
    "    verbose=1\n",
    ")\n",
    "\n",
    "search.fit(X_train, y_train_bin)\n",
    "trained_models[name] = search.best_estimator_\n",
    "\n",
    "print(f'Best params: {search.best_params_}')\n",
    "print(f'Best CV score: {search.best_score_:.4f}')"
   ]
  },
  {
   "cell_type": "markdown",
   "metadata": {},
   "source": [
    "## 4. Model Performans Karşılaştırması"
   ]
  },
  {
   "cell_type": "code",
   "execution_count": null,
   "metadata": {},
   "outputs": [],
   "source": [
    "# Test seti performansları\n",
    "results = {}\n",
    "\n",
    "for name, model in trained_models.items():\n",
    "    y_pred = model.predict(X_test)\n",
    "    y_proba = model.predict_proba(X_test)[:, 1]\n",
    "    \n",
    "    f1 = f1_score(y_test_bin, y_pred)\n",
    "    auc = roc_auc_score(y_test_bin, y_proba)\n",
    "    \n",
    "    results[name] = {\n",
    "        'f1': f1,\n",
    "        'auc': auc,\n",
    "        'predictions': y_pred,\n",
    "        'probabilities': y_proba\n",
    "    }\n",
    "    \n",
    "    print(f'\\n=== {name.upper()} ===')\n",
    "    print(f'F1 Score: {f1:.4f}')\n",
    "    print(f'ROC AUC: {auc:.4f}')\n",
    "    print('\\nClassification Report:')\n",
    "    print(classification_report(y_test_bin, y_pred))"
   ]
  },
  {
   "cell_type": "code",
   "execution_count": null,
   "metadata": {},
   "outputs": [],
   "source": [
    "# En iyi modeli seçme\n",
    "best_model_name = max(results.keys(), key=lambda x: results[x]['f1'])\n",
    "best_model = trained_models[best_model_name]\n",
    "\n",
    "print(f'En iyi model: {best_model_name}')\n",
    "print(f'F1 Score: {results[best_model_name][\"f1\"]:.4f}')\n",
    "print(f'ROC AUC: {results[best_model_name][\"auc\"]:.4f}')"
   ]
  },
  {
   "cell_type": "markdown",
   "metadata": {},
   "source": [
    "## 5. En İyi Modelin Detaylı Analizi"
   ]
  },
  {
   "cell_type": "code",
   "execution_count": null,
   "metadata": {},
   "outputs": [],
   "source": [
    "# ROC ve Precision-Recall eğrileri\n",
    "y_proba_best = results[best_model_name]['probabilities']\n",
    "plot_roc_pr(y_test_bin, y_proba_best, title_prefix=f'{best_model_name.upper()}')"
   ]
  },
  {
   "cell_type": "code",
   "execution_count": null,
   "metadata": {},
   "outputs": [],
   "source": [
    "# Karışıklık matrisi\n",
    "y_pred_best = results[best_model_name]['predictions']\n",
    "plot_cm(y_test_bin, y_pred_best, title=f'{best_model_name.upper()} - Confusion Matrix')"
   ]
  },
  {
   "cell_type": "markdown",
   "metadata": {},
   "source": [
    "## 6. Eşik Optimizasyonu"
   ]
  },
  {
   "cell_type": "code",
   "execution_count": null,
   "metadata": {},
   "outputs": [],
   "source": [
    "# En iyi F1 skorunu veren eşiği bulma\n",
    "best_threshold, best_f1 = find_best_threshold(y_test_bin, y_proba_best)\n",
    "\n",
    "print(f'En iyi eşik: {best_threshold:.4f}')\n",
    "print(f'En iyi F1 skoru: {best_f1:.4f}')\n",
    "\n",
    "# Optimized predictions\n",
    "y_pred_optimized = (y_proba_best >= best_threshold).astype(int)\n",
    "\n",
    "print('\\nOptimized Classification Report:')\n",
    "print(classification_report(y_test_bin, y_pred_optimized))"
   ]
  },
  {
   "cell_type": "code",
   "execution_count": null,
   "metadata": {},
   "outputs": [],
   "source": [
    "# Optimized karışıklık matrisi\n",
    "plot_cm(y_test_bin, y_pred_optimized, title=f'{best_model_name.upper()} - Optimized Confusion Matrix')"
   ]
  },
  {
   "cell_type": "markdown",
   "metadata": {},
   "source": [
    "## 7. Özellik Önemleri (Random Forest için)"
   ]
  },
  {
   "cell_type": "code",
   "execution_count": null,
   "metadata": {},
   "outputs": [],
   "source": [
    "# Random Forest özellik önemleri\n",
    "if 'rf' in trained_models:\n",
    "    rf_model = trained_models['rf']\n",
    "    \n",
    "    # Pipeline'dan Random Forest'i çıkarma\n",
    "    rf_classifier = rf_model.named_steps['classifier']\n",
    "    \n",
    "    # Özellik isimleri (preprocessing sonrası)\n",
    "    feature_names = rf_model.named_steps['preprocessor'].get_feature_names_out()\n",
    "    \n",
    "    # Özellik önemleri\n",
    "    importances = rf_classifier.feature_importances_\n",
    "    \n",
    "    # En önemli 20 özellik\n",
    "    indices = np.argsort(importances)[::-1][:20]\n",
    "    \n",
    "    plt.figure(figsize=(12, 8))\n",
    "    plt.title('Top 20 Feature Importances (Random Forest)')\n",
    "    plt.bar(range(20), importances[indices])\n",
    "    plt.xticks(range(20), [feature_names[i] for i in indices], rotation=45, ha='right')\n",
    "    plt.tight_layout()\n",
    "    plt.show()\n",
    "    \n",
    "    print('Top 10 Most Important Features:')\n",
    "    for i in range(10):\n",
    "        idx = indices[i]\n",
    "        print(f'{i+1:2d}. {feature_names[idx]:30s} {importances[idx]:.4f}')"
   ]
  }
 ],
 "metadata": {
  "kernelspec": {
   "display_name": "Python 3",
   "language": "python",
   "name": "python3"
  },
  "language_info": {
   "codemirror_mode": {
    "name": "ipython",
    "version": "3.8.0"
   },
   "file_extension": ".py",
   "mimetype": "text/x-python",
   "name": "python",
   "nbconvert_exporter": "python",
   "pygments_lexer": "ipython3",
   "version": "3.8.0"
  }
 },
 "nbformat": 4,
 "nbformat_minor": 4
}