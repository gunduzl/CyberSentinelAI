{
 "cells": [
  {
   "cell_type": "markdown",
   "metadata": {},
   "source": [
    "# KDD Cup 1999 - Multi-Class Saldırı Sınıflandırması\n",
    "\n",
    "Bu notebook, KDD Cup 1999 veri seti ile multi-class sınıflandırma (saldırı türü tespiti) modellerini geliştirir."
   ]
  },
  {
   "cell_type": "code",
   "execution_count": null,
   "metadata": {},
   "outputs": [],
   "source": [
    "import sys\n",
    "sys.path.append('../')\n",
    "\n",
    "import pandas as pd\n",
    "import numpy as np\n",
    "import matplotlib.pyplot as plt\n",
    "from sklearn.model_selection import StratifiedKFold, GridSearchCV\n",
    "from sklearn.metrics import classification_report, f1_score, accuracy_score\n",
    "\n",
    "from src.data import load_kdd\n",
    "from src.preprocess import add_targets, split_features\n",
    "from src.models import make_multiclass_pipelines\n",
    "from src.eval import plot_cm\n",
    "\n",
    "import warnings\n",
    "warnings.filterwarnings('ignore')\n",
    "\n",
    "%matplotlib inline"
   ]
  },
  {
   "cell_type": "markdown",
   "metadata": {},
   "source": [
    "## 1. Veri Hazırlama"
   ]
  },
  {
   "cell_type": "code",
   "execution_count": null,
   "metadata": {},
   "outputs": [],
   "source": [
    "# Veri yükleme\n",
    "print('Veri yükleniyor...')\n",
    "train_raw = load_kdd('../data/kddcup.data_10_percent.gz')\n",
    "test_raw = load_kdd('../data/corrected.gz')\n",
    "\n",
    "# Hedef değişkenleri ekle\n",
    "train_full = add_targets(train_raw)\n",
    "test_full = add_targets(test_raw)\n",
    "\n",
    "print(f'Full train boyutu: {train_full.shape}')\n",
    "print(f'Full test boyutu: {test_full.shape}')\n",
    "\n",
    "# Hızlı test için orta büyüklükte örneklem al\n",
    "from sklearn.model_selection import train_test_split\n",
    "train, _ = train_test_split(train_full, test_size=0.5, random_state=42, stratify=train_full['y_binary'])\n",
"test, _ = train_test_split(test_full, test_size=0.5, random_state=42, stratify=test_full['y_binary'])\n",
    "\n",
    "print(f'Small train boyutu: {train.shape}')\n",
    "print(f'Small test boyutu: {test.shape}')"
   ]
  },
  {
   "cell_type": "code",
   "execution_count": null,
   "metadata": {},
   "outputs": [],
   "source": [
    "# Normal trafiği 'normal' sınıfı olarak ekle\n",
    "train_mc = train.copy()\n",
    "test_mc = test.copy()\n",
    "\n",
    "# Normal trafikler için y_family = 'normal' ata\n",
    "train_mc.loc[train_mc['y_binary'] == 0, 'y_family'] = 'normal'\n",
    "test_mc.loc[test_mc['y_binary'] == 0, 'y_family'] = 'normal'\n",
    "\n",
    "# NaN değerleri olan satırları kaldır (family mapping olmayan saldırılar)\n",
    "train_mc = train_mc.dropna(subset=['y_family'])\n",
    "test_mc = test_mc.dropna(subset=['y_family'])\n",
    "\n",
    "print(f'Train multiclass boyutu: {train_mc.shape}')\n",
    "print(f'Test multiclass boyutu: {test_mc.shape}')"
   ]
  },
  {
   "cell_type": "code",
   "execution_count": null,
   "metadata": {},
   "outputs": [],
   "source": [
    "# Saldırı ailesi dağılımlarını kontrol et\n",
    "print('Train set - Saldırı ailesi dağılımı:')\n",
    "print(train_mc['y_family'].value_counts())\n",
    "\n",
    "print('\\nTest set - Saldırı ailesi dağılımı:')\n",
    "print(test_mc['y_family'].value_counts())"
   ]
  },
  {
   "cell_type": "code",
   "execution_count": null,
   "metadata": {},
   "outputs": [],
   "source": [
    "# Özellikleri ve hedef değişkenleri ayır\n",
    "X_train_mc, y_train_bin, y_train_family, num_cols, cat_cols = split_features(train_mc)\n",
    "X_test_mc, y_test_bin, y_test_family, _, _ = split_features(test_mc)\n",
    "\n",
    "print(f'Özellik sayısı: {X_train_mc.shape[1]}')\n",
    "print(f'Sayısal özellik sayısı: {len(num_cols)}')\n",
    "print(f'Kategorik özellik sayısı: {len(cat_cols)}')\n",
    "print(f'Sınıf sayısı: {y_train_family.nunique()}')"
   ]
  },
  {
   "cell_type": "markdown",
   "metadata": {},
   "source": [
    "## 2. Model Pipeline'ları Hazırlama"
   ]
  },
  {
   "cell_type": "code",
   "execution_count": null,
   "metadata": {},
   "outputs": [],
   "source": [
    "# Multi-class sınıflandırma pipeline'larını oluştur\n",
    "grids = make_multiclass_pipelines(num_cols, cat_cols)\n",
    "\n",
    "print('Hazırlanan modeller:')\n",
    "for name in grids.keys():\n",
    "    print(f'- {name}')"
   ]
  },
  {
   "cell_type": "markdown",
   "metadata": {},
   "source": [
    "## 3. Model Eğitimi ve Hiperparametre Optimizasyonu"
   ]
  },
  {
   "cell_type": "code",
   "execution_count": null,
   "metadata": {},
   "outputs": [],
   "source": [
    "# Cross-validation ayarları (hızlı test için 2 split)\n",
    "cv = StratifiedKFold(n_splits=2, shuffle=True, random_state=42)\n",
    "\n",
    "# Sonuçları saklamak için\n",
    "mc_results = []\n",
    "trained_models = {}\n",
    "\n",
    "print('Multi-class model eğitimi başlıyor...\\n')"
   ]
  },
  {
   "cell_type": "code",
   "execution_count": null,
   "metadata": {},
   "outputs": [],
   "source": [
    "# Logistic Regression\n",
    "print('=== Logistic Regression (Multi-class) ===')\n",
    "name = 'lr'\n",
    "pipe, param_grid = grids[name]\n",
    "\n",
    "search = GridSearchCV(\n",
    "    estimator=pipe,\n",
    "    param_grid=param_grid,\n",
    "    scoring='f1_macro',\n",
    "    cv=cv,\n",
    "    n_jobs=-1,\n",
    "    verbose=1\n",
    ")\n",
    "\n",
    "search.fit(X_train_mc, y_train_family)\n",
    "trained_models[name] = search.best_estimator_\n",
    "\n",
    "# Test seti tahminleri\n",
    "y_pred = search.best_estimator_.predict(X_test_mc)\n",
    "\n",
    "# Metrikleri hesapla\n",
    "f1_macro = f1_score(y_test_family, y_pred, average='macro')\n",
    "f1_weighted = f1_score(y_test_family, y_pred, average='weighted')\n",
    "accuracy = accuracy_score(y_test_family, y_pred)\n",
    "\n",
    "print(f'\\nEn iyi parametreler: {search.best_params_}')\n",
    "print(f'Macro F1: {f1_macro:.4f}')\n",
    "print(f'Weighted F1: {f1_weighted:.4f}')\n",
    "print(f'Accuracy: {accuracy:.4f}')\n",
    "print('\\nSınıflandırma Raporu:')\n",
    "print(classification_report(y_test_family, y_pred, digits=4))\n",
    "\n",
    "mc_results.append({\n",
    "    'model': name,\n",
    "    'best_params': search.best_params_,\n",
    "    'f1_macro': f1_macro,\n",
    "    'f1_weighted': f1_weighted,\n",
    "    'accuracy': accuracy\n",
    "})"
   ]
  },
  {
   "cell_type": "code",
   "execution_count": null,
   "metadata": {},
   "outputs": [],
   "source": [
    "# Random Forest\n",
    "print('\\n=== Random Forest (Multi-class) ===')\n",
    "name = 'rf'\n",
    "pipe, param_grid = grids[name]\n",
    "\n",
    "search = GridSearchCV(\n",
    "    estimator=pipe,\n",
    "    param_grid=param_grid,\n",
    "    scoring='f1_macro',\n",
    "    cv=cv,\n",
    "    n_jobs=-1,\n",
    "    verbose=1\n",
    ")\n",
    "\n",
    "search.fit(X_train_mc, y_train_family)\n",
    "trained_models[name] = search.best_estimator_\n",
    "\n",
    "# Test seti tahminleri\n",
    "y_pred = search.best_estimator_.predict(X_test_mc)\n",
    "\n",
    "# Metrikleri hesapla\n",
    "f1_macro = f1_score(y_test_family, y_pred, average='macro')\n",
    "f1_weighted = f1_score(y_test_family, y_pred, average='weighted')\n",
    "accuracy = accuracy_score(y_test_family, y_pred)\n",
    "\n",
    "print(f'\\nEn iyi parametreler: {search.best_params_}')\n",
    "print(f'Macro F1: {f1_macro:.4f}')\n",
    "print(f'Weighted F1: {f1_weighted:.4f}')\n",
    "print(f'Accuracy: {accuracy:.4f}')\n",
    "print('\\nSınıflandırma Raporu:')\n",
    "print(classification_report(y_test_family, y_pred, digits=4))\n",
    "\n",
    "mc_results.append({\n",
    "    'model': name,\n",
    "    'best_params': search.best_params_,\n",
    "    'f1_macro': f1_macro,\n",
    "    'f1_weighted': f1_weighted,\n",
    "    'accuracy': accuracy\n",
    "})"
   ]
  },
  {
   "cell_type": "markdown",
   "metadata": {},
   "source": [
    "## 4. Model Performans Karşılaştırması"
   ]
  },
  {
   "cell_type": "code",
   "execution_count": null,
   "metadata": {},
   "outputs": [],
   "source": [
    "# Sonuçları tablo halinde göster\n",
    "mc_results_df = pd.DataFrame(mc_results)\n",
    "print('Multi-class Model Performans Karşılaştırması:')\n",
    "print(mc_results_df)"
   ]
  },
  {
   "cell_type": "markdown",
   "metadata": {},
   "source": [
    "## 5. En İyi Modelin Detaylı Analizi"
   ]
  },
  {
   "cell_type": "code",
   "execution_count": null,
   "metadata": {},
   "outputs": [],
   "source": [
    "# En iyi modeli seç (Macro F1'e göre)\n",
    "best_model_name = mc_results_df.loc[mc_results_df['f1_macro'].idxmax(), 'model']\n",
    "best_model = trained_models[best_model_name]\n",
    "\n",
    "print(f'En iyi model: {best_model_name}')\n",
    "\n",
    "# En iyi model ile tahminler\n",
    "y_pred_best = best_model.predict(X_test_mc)"
   ]
  },
  {
   "cell_type": "code",
   "execution_count": null,
   "metadata": {},
   "outputs": [],
   "source": [
    "# Confusion Matrix\n",
    "labels = sorted(y_test_family.unique())\n",
    "plot_cm(y_test_family, y_pred_best, labels=labels, \n",
    "        title=f'Multi-class Confusion Matrix ({best_model_name})', \n",
    "        normalize='true')"
   ]
  },
  {
   "cell_type": "code",
   "execution_count": null,
   "metadata": {},
   "outputs": [],
   "source": [
    "# Sınıf bazında performans analizi\n",
    "from sklearn.metrics import precision_recall_fscore_support\n",
    "\n",
    "precision, recall, f1, support = precision_recall_fscore_support(\n",
    "    y_test_family, y_pred_best, average=None, labels=labels\n",
    ")\n",
    "\n",
    "class_performance = pd.DataFrame({\n",
    "    'class': labels,\n",
    "    'precision': precision,\n",
    "    'recall': recall,\n",
    "    'f1_score': f1,\n",
    "    'support': support\n",
    "})\n",
    "\n",
    "print('Sınıf bazında performans:')\n",
    "print(class_performance.round(4))"
   ]
  },
  {
   "cell_type": "markdown",
   "metadata": {},
   "source": [
    "## 6. Özellik Önemleri (Random Forest için)"
   ]
  },
  {
   "cell_type": "code",
   "execution_count": null,
   "metadata": {},
   "outputs": [],
   "source": [
    "# Eğer en iyi model Random Forest ise özellik önemlerini göster\n",
    "if best_model_name == 'rf':\n",
    "    # Özellik önemlerini al\n",
    "    feature_names = best_model.named_steps['pre'].get_feature_names_out()\n",
    "    importances = best_model.named_steps['clf'].feature_importances_\n",
    "    \n",
    "    # En önemli 20 özelliği göster\n",
    "    feature_importance_df = pd.DataFrame({\n",
    "        'feature': feature_names,\n",
    "        'importance': importances\n",
    "    }).sort_values('importance', ascending=False)\n",
    "    \n",
    "    print('En önemli 20 özellik (Multi-class):')\n",
    "    print(feature_importance_df.head(20))\n",
    "    \n",
    "    # Görselleştir\n",
    "    plt.figure(figsize=(10, 8))\n",
    "    top_features = feature_importance_df.head(20)\n",
    "    plt.barh(range(len(top_features)), top_features['importance'])\n",
    "    plt.yticks(range(len(top_features)), top_features['feature'])\n",
    "    plt.xlabel('Özellik Önemi')\n",
    "    plt.title('En Önemli 20 Özellik (Multi-class Random Forest)')\n",
    "    plt.gca().invert_yaxis()\n",
    "    plt.tight_layout()\n",
    "    plt.show()\n",
    "else:\n",
    "    print(f'Özellik önemleri sadece Random Forest modeli için gösterilir. En iyi model: {best_model_name}')"
   ]
  },
  {
   "cell_type": "markdown",
   "metadata": {},
   "source": [
    "## 7. Hata Analizi"
   ]
  },
  {
   "cell_type": "code",
   "execution_count": null,
   "metadata": {},
   "outputs": [],
   "source": [
    "# Yanlış sınıflandırılan örnekleri analiz et\n",
    "misclassified = y_test_family != y_pred_best\n",
    "\n",
    "print(f'Toplam yanlış sınıflandırma: {misclassified.sum()}')\n",
    "print(f'Yanlış sınıflandırma oranı: {misclassified.mean():.4f}')\n",
    "\n",
    "# En çok karıştırılan sınıf çiftleri\n",
    "from collections import Counter\n",
    "\n",
    "misclass_pairs = []\n",
    "for true_label, pred_label in zip(y_test_family[misclassified], y_pred_best[misclassified]):\n",
    "    misclass_pairs.append((true_label, pred_label))\n",
    "\n",
    "most_common_errors = Counter(misclass_pairs).most_common(10)\n",
    "\n",
    "print('\\nEn sık karıştırılan sınıf çiftleri (gerçek -> tahmin):')\n",
    "for (true_class, pred_class), count in most_common_errors:\n",
    "    print(f'{true_class} -> {pred_class}: {count} kez')"
   ]
  },
  {
   "cell_type": "markdown",
   "metadata": {},
   "source": [
    "## 8. Sonuçlar ve Değerlendirme\n",
    "\n",
    "### Temel Bulgular:\n",
    "\n",
    "1. **Model Performansları**: Yukarıdaki tabloda karşılaştırıldı\n",
    "2. **En İyi Model**: Macro F1 skoruna göre belirlendi\n",
    "3. **Sınıf Bazında Performans**: Her saldırı ailesi için ayrı ayrı analiz edildi\n",
    "4. **Hata Analizi**: En sık karıştırılan sınıf çiftleri belirlendi\n",
    "\n",
    "### Gözlemler:\n",
    "\n",
    "- **DoS saldırıları** genellikle en kolay tespit edilen sınıftır\n",
    "- **U2R ve R2L** saldırıları daha az örnekli olduğu için tespit edilmesi zordur\n",
    "- **Probe** saldırıları orta düzeyde başarı ile tespit edilir\n",
    "\n",
    "### Öneriler:\n",
    "\n",
    "- Dengesiz sınıflar için daha gelişmiş örnekleme teknikleri kullanılabilir\n",
    "- Ensemble yöntemleri (Voting, Stacking) denenebilir\n",
    "- Özellik mühendisliği ile yeni özellikler türetilebilir\n",
    "- Cost-sensitive learning yaklaşımları uygulanabilir"
   ]
  }
 ],
 "metadata": {
  "kernelspec": {
   "display_name": "Python 3",
   "language": "python",
   "name": "python3"
  },
  "language_info": {
   "codemirror_mode": {
    "name": "ipython",
    "version": 3
   },
   "file_extension": ".py",
   "mimetype": "text/x-python",
   "name": "python",
   "nbconvert_exporter": "python",
   "pygments_lexer": "ipython3",
   "version": "3.8.0"
  }
 },
 "nbformat": 4,
 "nbformat_minor": 4
}